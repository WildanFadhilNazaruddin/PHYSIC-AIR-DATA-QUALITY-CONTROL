{
  "cells": [
    {
      "cell_type": "markdown",
      "metadata": {
        "id": "kZLRMFl0JyyQ"
      },
      "source": [
        "# **1. Perkenalan Dataset**\n"
      ]
    },
    {
      "cell_type": "markdown",
      "metadata": {
        "id": "hssSDn-5n3HR"
      },
      "source": [
        "## **Insight tentang Dataset CPNS**\n",
        "\n",
        "### **Tahap 1: Pemilihan Dataset**\n",
        "Dataset yang digunakan berasal dari informasi formasi Calon Pegawai Negeri Sipil (CPNS). Dataset ini dipilih karena memenuhi kriteria berikut:\n",
        "\n",
        "1. **Tanpa Label**: Dataset ini tidak memiliki label atau kelas yang dapat langsung digunakan untuk klasifikasi.\n",
        "2. **Jumlah Baris**: Dataset memiliki **653,621 baris**, jauh melampaui batas minimal 1,000 baris, sehingga memungkinkan analisis yang bermakna.\n",
        "3. **Tipe Data**:\n",
        "   - **Kategorikal**: Contoh kolom seperti *agency*, *formation_category*, *position*, dan *education_level*.\n",
        "   - **Numerikal**: Contoh kolom seperti *num_of_formation*, *minimum_salary_idr*, dan *maximum_salary_idr*.\n",
        "\n",
        "---\n",
        "\n",
        "### **Tahap 2: Deskripsi Dataset**\n",
        "\n",
        "Dataset ini terdiri dari **14 kolom** yang dapat dikelompokkan berdasarkan jenis datanya:\n",
        "\n",
        "1. **Informasi Umum Formasi**:\n",
        "   - `formation_id`: ID unik untuk setiap formasi.\n",
        "   - `agency`: Badan atau lembaga pemerintah yang membuka formasi.\n",
        "   - `admission_path`: Jalur rekrutmen, dalam dataset ini seluruhnya berisi nilai \"CPNS\".\n",
        "   - `formation_category`: Kategori formasi, seperti \"UMUM\" atau \"KHUSUS\".\n",
        "   - `position`: Judul pekerjaan atau posisi yang ditawarkan.\n",
        "   - `location`: Lokasi penempatan formasi.\n",
        "\n",
        "2. **Detail Formasi**:\n",
        "   - `num_of_formation`: Jumlah lowongan yang tersedia untuk posisi tersebut (numerik).\n",
        "   - `allow_disability`: Indikator apakah formasi ini terbuka untuk penyandang disabilitas (1: Ya, 0: Tidak).\n",
        "\n",
        "3. **Informasi Gaji**:\n",
        "   - `minimum_salary_idr`: Gaji minimum dalam Rupiah.\n",
        "   - `maximum_salary_idr`: Gaji maksimum dalam Rupiah.\n",
        "\n",
        "4. **Persyaratan Pendidikan**:\n",
        "   - `education_code`: Kode unik untuk bidang studi.\n",
        "   - `education_major`: Nama jurusan pendidikan, seperti \"S-1 Hukum\".\n",
        "   - `education_level_id`: ID unik untuk tingkat pendidikan.\n",
        "   - `education_level`: Nama tingkat pendidikan, seperti \"S-1/Sarjana\".\n",
        "\n",
        "---\n",
        "\n",
        "### **Tahap 3: Statistik Dataset**\n",
        "#### 1. **Ukuran Dataset**\n",
        "- Dataset memiliki **653,621 baris** dan **14 kolom**.\n",
        "- Dataset ini sepenuhnya terisi (*non-null*) tanpa data yang hilang, sehingga tidak memerlukan langkah pengisian data kosong.\n",
        "\n",
        "#### 2. **Tipe Data**\n",
        "- Kolom kategorikal: **8 kolom** (contohnya *agency*, *position*, *education_level*).\n",
        "- Kolom numerikal: **6 kolom** (contohnya *num_of_formation*, *minimum_salary_idr*).\n",
        "\n",
        "#### 3. **Distribusi Data**:\n",
        "- **Numerikal**:\n",
        "  - *num_of_formation*: Sebagian besar posisi memiliki kurang dari 2 formasi. Ada posisi dengan formasi sebanyak **2,949**.\n",
        "  - *minimum_salary_idr*: Rata-rata gaji minimum sekitar **Rp3.8 juta**, dengan maksimum **Rp68.4 juta**.\n",
        "  - *maximum_salary_idr*: Rata-rata gaji maksimum sekitar **Rp6.2 juta**, dengan maksimum **Rp99 juta**.\n",
        "\n",
        "- **Kategorikal**:\n",
        "  - Formasi terbanyak dibuka oleh **\"Kementerian Pekerjaan Umum dan Perumahan Rakyat\"** sebanyak **42,450 formasi**.\n",
        "  - Kategori formasi paling umum adalah **\"UMUM\"**, mencakup **540,702 formasi**.\n",
        "  - Tingkat pendidikan yang paling banyak dicari adalah **\"S-1/Sarjana\"**, mencakup **354,234 formasi**.\n",
        "\n",
        "#### 4. **Observasi Tambahan**\n",
        "- Dataset memiliki kolom seperti `admission_path` yang hanya mengandung satu nilai (\"CPNS\"). Kolom ini bisa dihapus karena tidak memberikan informasi tambahan untuk analisis.\n",
        "\n",
        "---\n",
        "\n",
        "### **Tahap 4: Kegunaan Dataset**\n",
        "Dataset ini cocok untuk berbagai jenis analisis tanpa label, seperti:\n",
        "- **Clustering**: Mengelompokkan formasi berdasarkan gaji, jumlah formasi, atau persyaratan pendidikan.\n",
        "- **Exploratory Data Analysis (EDA)**: Mengeksplorasi pola data, seperti distribusi gaji di berbagai kategori atau wilayah.\n",
        "- **Pemetaan Lokasi**: Menggunakan data lokasi untuk analisis kebutuhan tenaga kerja di berbagai wilayah.\n",
        "\n",
        "---\n",
        "\n",
        "### **Kesimpulan**\n",
        "Dataset ini menyediakan data kaya dengan berbagai tipe informasi. Fokus utama adalah pada formasi CPNS, dengan peluang untuk mengeksplorasi distribusi formasi berdasarkan kategori, lokasi, gaji, dan tingkat pendidikan. Data ini sangat cocok untuk eksperimen *unsupervised learning*, seperti *clustering* atau analisis pola lainnya."
      ]
    },
    {
      "cell_type": "code",
      "execution_count": 1,
      "metadata": {},
      "outputs": [
        {
          "ename": "NameError",
          "evalue": "name 'zipfile' is not defined",
          "output_type": "error",
          "traceback": [
            "\u001b[0;31m---------------------------------------------------------------------------\u001b[0m",
            "\u001b[0;31mNameError\u001b[0m                                 Traceback (most recent call last)",
            "Cell \u001b[0;32mIn[1], line 4\u001b[0m\n\u001b[1;32m      1\u001b[0m zip_path \u001b[38;5;241m=\u001b[39m \u001b[38;5;124m'\u001b[39m\u001b[38;5;124m../PROJEK/data/full-formasi-cpns-2024-website-sscasn.zip\u001b[39m\u001b[38;5;124m'\u001b[39m\n\u001b[1;32m      2\u001b[0m extract_path \u001b[38;5;241m=\u001b[39m \u001b[38;5;124m'\u001b[39m\u001b[38;5;124m../PROJEK/data\u001b[39m\u001b[38;5;124m'\u001b[39m \n\u001b[0;32m----> 4\u001b[0m \u001b[38;5;28;01mwith\u001b[39;00m \u001b[43mzipfile\u001b[49m\u001b[38;5;241m.\u001b[39mZipFile(zip_path, \u001b[38;5;124m'\u001b[39m\u001b[38;5;124mr\u001b[39m\u001b[38;5;124m'\u001b[39m) \u001b[38;5;28;01mas\u001b[39;00m zip_ref:\n\u001b[1;32m      5\u001b[0m     zip_ref\u001b[38;5;241m.\u001b[39mextractall(extract_path)\n\u001b[1;32m      7\u001b[0m os\u001b[38;5;241m.\u001b[39mremove(zip_path)\n",
            "\u001b[0;31mNameError\u001b[0m: name 'zipfile' is not defined"
          ]
        }
      ],
      "source": [
        "zip_path = '../PROJEK/data/full-formasi-cpns-2024-website-sscasn.zip'\n",
        "extract_path = '../PROJEK/data' \n",
        "\n",
        "with zipfile.ZipFile(zip_path, 'r') as zip_ref:\n",
        "    zip_ref.extractall(extract_path)\n",
        "\n",
        "os.remove(zip_path)\n",
        "\n",
        "print(f\"File zip telah diekstrak ke {extract_path} dan file zip telah dihapus.\")\n"
      ]
    },
    {
      "cell_type": "markdown",
      "metadata": {
        "id": "fKADPWcFKlj3"
      },
      "source": [
        "# **2. Import Library**"
      ]
    },
    {
      "cell_type": "code",
      "execution_count": 5,
      "metadata": {
        "id": "BlmvjLY9M4Yj"
      },
      "outputs": [],
      "source": [
        "import os\n",
        "import zipfile\n",
        "import pandas as pd\n",
        "import matplotlib.pyplot as plt \n",
        "import seaborn as sns\n",
        "\n",
        "import math\n"
      ]
    },
    {
      "cell_type": "markdown",
      "metadata": {
        "id": "f3YIEnAFKrKL"
      },
      "source": [
        "# **3. Memuat Dataset**"
      ]
    },
    {
      "cell_type": "code",
      "execution_count": 6,
      "metadata": {
        "id": "GHCGNTyrM5fS"
      },
      "outputs": [],
      "source": [
        "cpns = pd.read_csv('../PROJEK/data/sscasn_formasi_cpns_2024.csv')\n"
      ]
    },
    {
      "cell_type": "code",
      "execution_count": 7,
      "metadata": {},
      "outputs": [
        {
          "data": {
            "text/html": [
              "<div>\n",
              "<style scoped>\n",
              "    .dataframe tbody tr th:only-of-type {\n",
              "        vertical-align: middle;\n",
              "    }\n",
              "\n",
              "    .dataframe tbody tr th {\n",
              "        vertical-align: top;\n",
              "    }\n",
              "\n",
              "    .dataframe thead th {\n",
              "        text-align: right;\n",
              "    }\n",
              "</style>\n",
              "<table border=\"1\" class=\"dataframe\">\n",
              "  <thead>\n",
              "    <tr style=\"text-align: right;\">\n",
              "      <th></th>\n",
              "      <th>formation_id</th>\n",
              "      <th>agency</th>\n",
              "      <th>admission_path</th>\n",
              "      <th>fomation_category</th>\n",
              "      <th>position</th>\n",
              "      <th>location</th>\n",
              "      <th>num_of_formation</th>\n",
              "      <th>allow_disability</th>\n",
              "      <th>minimum_salary_idr</th>\n",
              "      <th>maximum_salary_idr</th>\n",
              "      <th>education_code</th>\n",
              "      <th>education_major</th>\n",
              "      <th>education_level_id</th>\n",
              "      <th>education_level</th>\n",
              "    </tr>\n",
              "  </thead>\n",
              "  <tbody>\n",
              "    <tr>\n",
              "      <th>0</th>\n",
              "      <td>8a01869291548667019154b712642868</td>\n",
              "      <td>Badan Kependudukan dan Keluarga Berencana Nasi...</td>\n",
              "      <td>CPNS</td>\n",
              "      <td>UMUM</td>\n",
              "      <td>PENYULUH KELUARGA BERENCANA AHLI PERTAMA</td>\n",
              "      <td>Perwakilan BKKBN Provinsi Jawa Timur</td>\n",
              "      <td>13</td>\n",
              "      <td>1</td>\n",
              "      <td>2785700</td>\n",
              "      <td>9024448</td>\n",
              "      <td>5106191</td>\n",
              "      <td>S-1 ILMU GIZI MASYARAKAT</td>\n",
              "      <td>40</td>\n",
              "      <td>S-1/Sarjana</td>\n",
              "    </tr>\n",
              "    <tr>\n",
              "      <th>1</th>\n",
              "      <td>8a01869291548667019154bdcb8b3245</td>\n",
              "      <td>Badan Kependudukan dan Keluarga Berencana Nasi...</td>\n",
              "      <td>CPNS</td>\n",
              "      <td>UMUM</td>\n",
              "      <td>PENYULUH KELUARGA BERENCANA AHLI PERTAMA</td>\n",
              "      <td>Perwakilan BKKBN Provinsi Kalimantan Barat</td>\n",
              "      <td>2</td>\n",
              "      <td>1</td>\n",
              "      <td>2785700</td>\n",
              "      <td>9024448</td>\n",
              "      <td>5106191</td>\n",
              "      <td>S-1 ILMU GIZI MASYARAKAT</td>\n",
              "      <td>40</td>\n",
              "      <td>S-1/Sarjana</td>\n",
              "    </tr>\n",
              "    <tr>\n",
              "      <th>2</th>\n",
              "      <td>8a01869291548667019154c6309c411d</td>\n",
              "      <td>Badan Kependudukan dan Keluarga Berencana Nasi...</td>\n",
              "      <td>CPNS</td>\n",
              "      <td>UMUM</td>\n",
              "      <td>PENYULUH KELUARGA BERENCANA AHLI PERTAMA</td>\n",
              "      <td>Perwakilan BKKBN Provinsi Sulawesi Tengah</td>\n",
              "      <td>16</td>\n",
              "      <td>1</td>\n",
              "      <td>2785700</td>\n",
              "      <td>9024448</td>\n",
              "      <td>5106191</td>\n",
              "      <td>S-1 ILMU GIZI MASYARAKAT</td>\n",
              "      <td>40</td>\n",
              "      <td>S-1/Sarjana</td>\n",
              "    </tr>\n",
              "    <tr>\n",
              "      <th>3</th>\n",
              "      <td>8a01869291548667019154c97b3247c2</td>\n",
              "      <td>Badan Kependudukan dan Keluarga Berencana Nasi...</td>\n",
              "      <td>CPNS</td>\n",
              "      <td>UMUM</td>\n",
              "      <td>PENYULUH KELUARGA BERENCANA AHLI PERTAMA</td>\n",
              "      <td>Perwakilan BKKBN Provinsi Kalimantan Tengah</td>\n",
              "      <td>7</td>\n",
              "      <td>1</td>\n",
              "      <td>2785700</td>\n",
              "      <td>9024448</td>\n",
              "      <td>5106191</td>\n",
              "      <td>S-1 ILMU GIZI MASYARAKAT</td>\n",
              "      <td>40</td>\n",
              "      <td>S-1/Sarjana</td>\n",
              "    </tr>\n",
              "    <tr>\n",
              "      <th>4</th>\n",
              "      <td>8a01869291548667019154df2454727f</td>\n",
              "      <td>Badan Kependudukan dan Keluarga Berencana Nasi...</td>\n",
              "      <td>CPNS</td>\n",
              "      <td>UMUM</td>\n",
              "      <td>PENYULUH KELUARGA BERENCANA AHLI PERTAMA</td>\n",
              "      <td>Perwakilan BKKBN Provinsi Kalimantan Timur</td>\n",
              "      <td>1</td>\n",
              "      <td>1</td>\n",
              "      <td>2785700</td>\n",
              "      <td>9024448</td>\n",
              "      <td>5106191</td>\n",
              "      <td>S-1 ILMU GIZI MASYARAKAT</td>\n",
              "      <td>40</td>\n",
              "      <td>S-1/Sarjana</td>\n",
              "    </tr>\n",
              "  </tbody>\n",
              "</table>\n",
              "</div>"
            ],
            "text/plain": [
              "                       formation_id  \\\n",
              "0  8a01869291548667019154b712642868   \n",
              "1  8a01869291548667019154bdcb8b3245   \n",
              "2  8a01869291548667019154c6309c411d   \n",
              "3  8a01869291548667019154c97b3247c2   \n",
              "4  8a01869291548667019154df2454727f   \n",
              "\n",
              "                                              agency admission_path  \\\n",
              "0  Badan Kependudukan dan Keluarga Berencana Nasi...           CPNS   \n",
              "1  Badan Kependudukan dan Keluarga Berencana Nasi...           CPNS   \n",
              "2  Badan Kependudukan dan Keluarga Berencana Nasi...           CPNS   \n",
              "3  Badan Kependudukan dan Keluarga Berencana Nasi...           CPNS   \n",
              "4  Badan Kependudukan dan Keluarga Berencana Nasi...           CPNS   \n",
              "\n",
              "  fomation_category                                  position  \\\n",
              "0              UMUM  PENYULUH KELUARGA BERENCANA AHLI PERTAMA   \n",
              "1              UMUM  PENYULUH KELUARGA BERENCANA AHLI PERTAMA   \n",
              "2              UMUM  PENYULUH KELUARGA BERENCANA AHLI PERTAMA   \n",
              "3              UMUM  PENYULUH KELUARGA BERENCANA AHLI PERTAMA   \n",
              "4              UMUM  PENYULUH KELUARGA BERENCANA AHLI PERTAMA   \n",
              "\n",
              "                                      location  num_of_formation  \\\n",
              "0         Perwakilan BKKBN Provinsi Jawa Timur                13   \n",
              "1   Perwakilan BKKBN Provinsi Kalimantan Barat                 2   \n",
              "2    Perwakilan BKKBN Provinsi Sulawesi Tengah                16   \n",
              "3  Perwakilan BKKBN Provinsi Kalimantan Tengah                 7   \n",
              "4   Perwakilan BKKBN Provinsi Kalimantan Timur                 1   \n",
              "\n",
              "   allow_disability  minimum_salary_idr  maximum_salary_idr  education_code  \\\n",
              "0                 1             2785700             9024448         5106191   \n",
              "1                 1             2785700             9024448         5106191   \n",
              "2                 1             2785700             9024448         5106191   \n",
              "3                 1             2785700             9024448         5106191   \n",
              "4                 1             2785700             9024448         5106191   \n",
              "\n",
              "            education_major  education_level_id education_level  \n",
              "0  S-1 ILMU GIZI MASYARAKAT                  40     S-1/Sarjana  \n",
              "1  S-1 ILMU GIZI MASYARAKAT                  40     S-1/Sarjana  \n",
              "2  S-1 ILMU GIZI MASYARAKAT                  40     S-1/Sarjana  \n",
              "3  S-1 ILMU GIZI MASYARAKAT                  40     S-1/Sarjana  \n",
              "4  S-1 ILMU GIZI MASYARAKAT                  40     S-1/Sarjana  "
            ]
          },
          "execution_count": 7,
          "metadata": {},
          "output_type": "execute_result"
        }
      ],
      "source": [
        "cpns.head()"
      ]
    },
    {
      "cell_type": "code",
      "execution_count": null,
      "metadata": {},
      "outputs": [
        {
          "name": "stdout",
          "output_type": "stream",
          "text": [
            "<class 'pandas.core.frame.DataFrame'>\n",
            "RangeIndex: 653621 entries, 0 to 653620\n",
            "Data columns (total 14 columns):\n",
            " #   Column              Non-Null Count   Dtype \n",
            "---  ------              --------------   ----- \n",
            " 0   formation_id        653621 non-null  object\n",
            " 1   agency              653621 non-null  object\n",
            " 2   admission_path      653621 non-null  object\n",
            " 3   fomation_category   653621 non-null  object\n",
            " 4   position            653621 non-null  object\n",
            " 5   location            653621 non-null  object\n",
            " 6   num_of_formation    653621 non-null  int64 \n",
            " 7   allow_disability    653621 non-null  int64 \n",
            " 8   minimum_salary_idr  653621 non-null  int64 \n",
            " 9   maximum_salary_idr  653621 non-null  int64 \n",
            " 10  education_code      653621 non-null  int64 \n",
            " 11  education_major     653621 non-null  object\n",
            " 12  education_level_id  653621 non-null  int64 \n",
            " 13  education_level     653621 non-null  object\n",
            "dtypes: int64(6), object(8)\n",
            "memory usage: 69.8+ MB\n"
          ]
        }
      ],
      "source": [
        "cpns.info()"
      ]
    },
    {
      "cell_type": "markdown",
      "metadata": {
        "id": "bgZkbJLpK9UR"
      },
      "source": [
        "# **4. Exploratory Data Analysis (EDA)**\n",
        "\n",
        "Pada tahap ini, Anda akan melakukan **Exploratory Data Analysis (EDA)** untuk memahami karakteristik dataset. EDA bertujuan untuk:\n",
        "\n",
        "1. **Memahami Struktur Data**\n",
        "   - Tinjau jumlah baris dan kolom dalam dataset.  \n",
        "   - Tinjau jenis data di setiap kolom (numerikal atau kategorikal).\n",
        "\n",
        "2. **Menangani Data yang Hilang**  \n",
        "   - Identifikasi dan analisis data yang hilang (*missing values*). Tentukan langkah-langkah yang diperlukan untuk menangani data yang hilang, seperti pengisian atau penghapusan data tersebut.\n",
        "\n",
        "3. **Analisis Distribusi dan Korelasi**  \n",
        "   - Analisis distribusi variabel numerik dengan statistik deskriptif dan visualisasi seperti histogram atau boxplot.  \n",
        "   - Periksa hubungan antara variabel menggunakan matriks korelasi atau scatter plot.\n",
        "\n",
        "4. **Visualisasi Data**  \n",
        "   - Buat visualisasi dasar seperti grafik distribusi dan diagram batang untuk variabel kategorikal.  \n",
        "   - Gunakan heatmap atau pairplot untuk menganalisis korelasi antar variabel.\n",
        "\n",
        "Tujuan dari EDA adalah untuk memperoleh wawasan awal yang mendalam mengenai data dan menentukan langkah selanjutnya dalam analisis atau pemodelan."
      ]
    },
    {
      "cell_type": "code",
      "execution_count": null,
      "metadata": {
        "id": "dKeejtvxM6X1"
      },
      "outputs": [
        {
          "data": {
            "text/html": [
              "<div>\n",
              "<style scoped>\n",
              "    .dataframe tbody tr th:only-of-type {\n",
              "        vertical-align: middle;\n",
              "    }\n",
              "\n",
              "    .dataframe tbody tr th {\n",
              "        vertical-align: top;\n",
              "    }\n",
              "\n",
              "    .dataframe thead th {\n",
              "        text-align: right;\n",
              "    }\n",
              "</style>\n",
              "<table border=\"1\" class=\"dataframe\">\n",
              "  <thead>\n",
              "    <tr style=\"text-align: right;\">\n",
              "      <th></th>\n",
              "      <th>formation_id</th>\n",
              "      <th>agency</th>\n",
              "      <th>admission_path</th>\n",
              "      <th>fomation_category</th>\n",
              "      <th>position</th>\n",
              "      <th>location</th>\n",
              "      <th>num_of_formation</th>\n",
              "      <th>allow_disability</th>\n",
              "      <th>minimum_salary_idr</th>\n",
              "      <th>maximum_salary_idr</th>\n",
              "      <th>education_code</th>\n",
              "      <th>education_major</th>\n",
              "      <th>education_level_id</th>\n",
              "      <th>education_level</th>\n",
              "    </tr>\n",
              "  </thead>\n",
              "  <tbody>\n",
              "    <tr>\n",
              "      <th>count</th>\n",
              "      <td>653621</td>\n",
              "      <td>653621</td>\n",
              "      <td>653621</td>\n",
              "      <td>653621</td>\n",
              "      <td>653621</td>\n",
              "      <td>653621</td>\n",
              "      <td>653621.000000</td>\n",
              "      <td>653621.000000</td>\n",
              "      <td>6.536210e+05</td>\n",
              "      <td>6.536210e+05</td>\n",
              "      <td>6.536210e+05</td>\n",
              "      <td>653621</td>\n",
              "      <td>653621.000000</td>\n",
              "      <td>653621</td>\n",
              "    </tr>\n",
              "    <tr>\n",
              "      <th>unique</th>\n",
              "      <td>110534</td>\n",
              "      <td>535</td>\n",
              "      <td>1</td>\n",
              "      <td>9</td>\n",
              "      <td>712</td>\n",
              "      <td>53678</td>\n",
              "      <td>NaN</td>\n",
              "      <td>NaN</td>\n",
              "      <td>NaN</td>\n",
              "      <td>NaN</td>\n",
              "      <td>NaN</td>\n",
              "      <td>5293</td>\n",
              "      <td>NaN</td>\n",
              "      <td>10</td>\n",
              "    </tr>\n",
              "    <tr>\n",
              "      <th>top</th>\n",
              "      <td>0380c4c6-07c2-45ef-964b-1de5269b553f</td>\n",
              "      <td>Kementerian Pekerjaan Umum dan Perumahan Rakyat</td>\n",
              "      <td>CPNS</td>\n",
              "      <td>UMUM</td>\n",
              "      <td>ADMINISTRATOR KESEHATAN AHLI PERTAMA</td>\n",
              "      <td>Badan Riset dan Inovasi Nasional | SEKRETARIAT...</td>\n",
              "      <td>NaN</td>\n",
              "      <td>NaN</td>\n",
              "      <td>NaN</td>\n",
              "      <td>NaN</td>\n",
              "      <td>NaN</td>\n",
              "      <td>S-1 HUKUM</td>\n",
              "      <td>NaN</td>\n",
              "      <td>S-1/Sarjana</td>\n",
              "    </tr>\n",
              "    <tr>\n",
              "      <th>freq</th>\n",
              "      <td>599</td>\n",
              "      <td>42450</td>\n",
              "      <td>653621</td>\n",
              "      <td>540702</td>\n",
              "      <td>50400</td>\n",
              "      <td>2940</td>\n",
              "      <td>NaN</td>\n",
              "      <td>NaN</td>\n",
              "      <td>NaN</td>\n",
              "      <td>NaN</td>\n",
              "      <td>NaN</td>\n",
              "      <td>12533</td>\n",
              "      <td>NaN</td>\n",
              "      <td>354234</td>\n",
              "    </tr>\n",
              "    <tr>\n",
              "      <th>mean</th>\n",
              "      <td>NaN</td>\n",
              "      <td>NaN</td>\n",
              "      <td>NaN</td>\n",
              "      <td>NaN</td>\n",
              "      <td>NaN</td>\n",
              "      <td>NaN</td>\n",
              "      <td>3.090311</td>\n",
              "      <td>0.697315</td>\n",
              "      <td>3.878039e+06</td>\n",
              "      <td>6.252131e+06</td>\n",
              "      <td>5.103149e+06</td>\n",
              "      <td>NaN</td>\n",
              "      <td>37.242558</td>\n",
              "      <td>NaN</td>\n",
              "    </tr>\n",
              "    <tr>\n",
              "      <th>std</th>\n",
              "      <td>NaN</td>\n",
              "      <td>NaN</td>\n",
              "      <td>NaN</td>\n",
              "      <td>NaN</td>\n",
              "      <td>NaN</td>\n",
              "      <td>NaN</td>\n",
              "      <td>17.921997</td>\n",
              "      <td>0.459420</td>\n",
              "      <td>2.240314e+06</td>\n",
              "      <td>3.722270e+06</td>\n",
              "      <td>7.889453e+05</td>\n",
              "      <td>NaN</td>\n",
              "      <td>5.040566</td>\n",
              "      <td>NaN</td>\n",
              "    </tr>\n",
              "    <tr>\n",
              "      <th>min</th>\n",
              "      <td>NaN</td>\n",
              "      <td>NaN</td>\n",
              "      <td>NaN</td>\n",
              "      <td>NaN</td>\n",
              "      <td>NaN</td>\n",
              "      <td>NaN</td>\n",
              "      <td>0.000000</td>\n",
              "      <td>0.000000</td>\n",
              "      <td>1.000000e+00</td>\n",
              "      <td>2.000000e+00</td>\n",
              "      <td>3.170940e+05</td>\n",
              "      <td>NaN</td>\n",
              "      <td>10.000000</td>\n",
              "      <td>NaN</td>\n",
              "    </tr>\n",
              "    <tr>\n",
              "      <th>25%</th>\n",
              "      <td>NaN</td>\n",
              "      <td>NaN</td>\n",
              "      <td>NaN</td>\n",
              "      <td>NaN</td>\n",
              "      <td>NaN</td>\n",
              "      <td>NaN</td>\n",
              "      <td>1.000000</td>\n",
              "      <td>0.000000</td>\n",
              "      <td>2.700000e+06</td>\n",
              "      <td>3.958200e+06</td>\n",
              "      <td>5.000492e+06</td>\n",
              "      <td>NaN</td>\n",
              "      <td>35.000000</td>\n",
              "      <td>NaN</td>\n",
              "    </tr>\n",
              "    <tr>\n",
              "      <th>50%</th>\n",
              "      <td>NaN</td>\n",
              "      <td>NaN</td>\n",
              "      <td>NaN</td>\n",
              "      <td>NaN</td>\n",
              "      <td>NaN</td>\n",
              "      <td>NaN</td>\n",
              "      <td>1.000000</td>\n",
              "      <td>1.000000</td>\n",
              "      <td>2.792900e+06</td>\n",
              "      <td>5.000000e+06</td>\n",
              "      <td>5.101346e+06</td>\n",
              "      <td>NaN</td>\n",
              "      <td>40.000000</td>\n",
              "      <td>NaN</td>\n",
              "    </tr>\n",
              "    <tr>\n",
              "      <th>75%</th>\n",
              "      <td>NaN</td>\n",
              "      <td>NaN</td>\n",
              "      <td>NaN</td>\n",
              "      <td>NaN</td>\n",
              "      <td>NaN</td>\n",
              "      <td>NaN</td>\n",
              "      <td>2.000000</td>\n",
              "      <td>1.000000</td>\n",
              "      <td>4.250600e+06</td>\n",
              "      <td>7.466176e+06</td>\n",
              "      <td>5.150001e+06</td>\n",
              "      <td>NaN</td>\n",
              "      <td>40.000000</td>\n",
              "      <td>NaN</td>\n",
              "    </tr>\n",
              "    <tr>\n",
              "      <th>max</th>\n",
              "      <td>NaN</td>\n",
              "      <td>NaN</td>\n",
              "      <td>NaN</td>\n",
              "      <td>NaN</td>\n",
              "      <td>NaN</td>\n",
              "      <td>NaN</td>\n",
              "      <td>2949.000000</td>\n",
              "      <td>1.000000</td>\n",
              "      <td>6.839800e+07</td>\n",
              "      <td>9.900000e+07</td>\n",
              "      <td>9.941292e+06</td>\n",
              "      <td>NaN</td>\n",
              "      <td>50.000000</td>\n",
              "      <td>NaN</td>\n",
              "    </tr>\n",
              "  </tbody>\n",
              "</table>\n",
              "</div>"
            ],
            "text/plain": [
              "                                formation_id  \\\n",
              "count                                 653621   \n",
              "unique                                110534   \n",
              "top     0380c4c6-07c2-45ef-964b-1de5269b553f   \n",
              "freq                                     599   \n",
              "mean                                     NaN   \n",
              "std                                      NaN   \n",
              "min                                      NaN   \n",
              "25%                                      NaN   \n",
              "50%                                      NaN   \n",
              "75%                                      NaN   \n",
              "max                                      NaN   \n",
              "\n",
              "                                                 agency admission_path  \\\n",
              "count                                            653621         653621   \n",
              "unique                                              535              1   \n",
              "top     Kementerian Pekerjaan Umum dan Perumahan Rakyat           CPNS   \n",
              "freq                                              42450         653621   \n",
              "mean                                                NaN            NaN   \n",
              "std                                                 NaN            NaN   \n",
              "min                                                 NaN            NaN   \n",
              "25%                                                 NaN            NaN   \n",
              "50%                                                 NaN            NaN   \n",
              "75%                                                 NaN            NaN   \n",
              "max                                                 NaN            NaN   \n",
              "\n",
              "       fomation_category                              position  \\\n",
              "count             653621                                653621   \n",
              "unique                 9                                   712   \n",
              "top                 UMUM  ADMINISTRATOR KESEHATAN AHLI PERTAMA   \n",
              "freq              540702                                 50400   \n",
              "mean                 NaN                                   NaN   \n",
              "std                  NaN                                   NaN   \n",
              "min                  NaN                                   NaN   \n",
              "25%                  NaN                                   NaN   \n",
              "50%                  NaN                                   NaN   \n",
              "75%                  NaN                                   NaN   \n",
              "max                  NaN                                   NaN   \n",
              "\n",
              "                                                 location  num_of_formation  \\\n",
              "count                                              653621     653621.000000   \n",
              "unique                                              53678               NaN   \n",
              "top     Badan Riset dan Inovasi Nasional | SEKRETARIAT...               NaN   \n",
              "freq                                                 2940               NaN   \n",
              "mean                                                  NaN          3.090311   \n",
              "std                                                   NaN         17.921997   \n",
              "min                                                   NaN          0.000000   \n",
              "25%                                                   NaN          1.000000   \n",
              "50%                                                   NaN          1.000000   \n",
              "75%                                                   NaN          2.000000   \n",
              "max                                                   NaN       2949.000000   \n",
              "\n",
              "        allow_disability  minimum_salary_idr  maximum_salary_idr  \\\n",
              "count      653621.000000        6.536210e+05        6.536210e+05   \n",
              "unique               NaN                 NaN                 NaN   \n",
              "top                  NaN                 NaN                 NaN   \n",
              "freq                 NaN                 NaN                 NaN   \n",
              "mean            0.697315        3.878039e+06        6.252131e+06   \n",
              "std             0.459420        2.240314e+06        3.722270e+06   \n",
              "min             0.000000        1.000000e+00        2.000000e+00   \n",
              "25%             0.000000        2.700000e+06        3.958200e+06   \n",
              "50%             1.000000        2.792900e+06        5.000000e+06   \n",
              "75%             1.000000        4.250600e+06        7.466176e+06   \n",
              "max             1.000000        6.839800e+07        9.900000e+07   \n",
              "\n",
              "        education_code education_major  education_level_id education_level  \n",
              "count     6.536210e+05          653621       653621.000000          653621  \n",
              "unique             NaN            5293                 NaN              10  \n",
              "top                NaN       S-1 HUKUM                 NaN     S-1/Sarjana  \n",
              "freq               NaN           12533                 NaN          354234  \n",
              "mean      5.103149e+06             NaN           37.242558             NaN  \n",
              "std       7.889453e+05             NaN            5.040566             NaN  \n",
              "min       3.170940e+05             NaN           10.000000             NaN  \n",
              "25%       5.000492e+06             NaN           35.000000             NaN  \n",
              "50%       5.101346e+06             NaN           40.000000             NaN  \n",
              "75%       5.150001e+06             NaN           40.000000             NaN  \n",
              "max       9.941292e+06             NaN           50.000000             NaN  "
            ]
          },
          "execution_count": 9,
          "metadata": {},
          "output_type": "execute_result"
        }
      ],
      "source": [
        "cpns.describe(include='all')"
      ]
    },
    {
      "cell_type": "code",
      "execution_count": null,
      "metadata": {},
      "outputs": [
        {
          "data": {
            "text/plain": [
              "Series([], dtype: int64)"
            ]
          },
          "execution_count": 10,
          "metadata": {},
          "output_type": "execute_result"
        }
      ],
      "source": [
        "missing_values = cpns.isnull().sum()\n",
        "missing_values[missing_values > 0]"
      ]
    },
    {
      "cell_type": "code",
      "execution_count": null,
      "metadata": {},
      "outputs": [
        {
          "name": "stdout",
          "output_type": "stream",
          "text": [
            "Number of duplicate rows: 0\n"
          ]
        }
      ],
      "source": [
        "# Check for duplicates\n",
        "duplicates = cpns[cpns.duplicated()]\n",
        "print(\"Number of duplicate rows:\", len(duplicates))\n"
      ]
    },
    {
      "cell_type": "code",
      "execution_count": null,
      "metadata": {},
      "outputs": [
        {
          "name": "stdout",
          "output_type": "stream",
          "text": [
            "Numerical Features: ['num_of_formation', 'allow_disability', 'minimum_salary_idr', 'maximum_salary_idr', 'education_code', 'education_level_id']\n",
            "Categorical Features: ['formation_id', 'agency', 'admission_path', 'fomation_category', 'position', 'location', 'education_major', 'education_level']\n"
          ]
        }
      ],
      "source": [
        "\n",
        "numerical_features = cpns.select_dtypes(include=['int64', 'float64']).columns.tolist()\n",
        "categorical_features = cpns.select_dtypes(include=['object']).columns.tolist()\n",
        "\n",
        "print(\"Numerical Features:\", numerical_features)\n",
        "print(\"Categorical Features:\", categorical_features)\n"
      ]
    },
    {
      "cell_type": "markdown",
      "metadata": {
        "id": "cpgHfgnSK3ip"
      },
      "source": [
        "# **5. Data Preprocessing**"
      ]
    },
    {
      "cell_type": "code",
      "execution_count": null,
      "metadata": {
        "id": "WzBGjcbQM7N8"
      },
      "outputs": [
        {
          "data": {
            "image/png": "[encoded data removed]",
            "text/plain": [
              "<Figure size 2400x1000 with 6 Axes>"
            ]
          },
          "metadata": {},
          "output_type": "display_data"
        }
      ],
      "source": [
        "num_cols = 4\n",
        "num_features = len(numerical_features)\n",
        "num_rows = math.ceil(num_features / num_cols) \n",
        "\n",
        "fig, axes = plt.subplots(num_rows, num_cols, figsize=(24, num_rows * 5))\n",
        "\n",
        "axes = axes.flatten()\n",
        "\n",
        "for i, feature in enumerate(numerical_features):\n",
        "    sns.boxplot(x=cpns[feature], ax=axes[i])\n",
        "    axes[i].set_title(f'Box Plot of {feature}')\n",
        "\n",
        "for j in range(i + 1, len(axes)):\n",
        "    fig.delaxes(axes[j])\n",
        "\n",
        "plt.tight_layout()\n",
        "plt.show()\n"
      ]
    },
    {
      "cell_type": "code",
      "execution_count": null,
      "metadata": {},
      "outputs": [],
      "source": [
        "Q1 = cpns[numerical_features].quantile(0.25)\n",
        "Q3 = cpns[numerical_features].quantile(0.75)\n",
        "IQR = Q3 - Q1"
      ]
    },
    {
      "cell_type": "code",
      "execution_count": null,
      "metadata": {},
      "outputs": [],
      "source": [
        "# Assuming you have calculated Q1, Q3, and IQR for your numerical features\n",
        "\n",
        "condition = ~((cpns[numerical_features] < (Q1 - 1.5 * IQR)) | (cpns[numerical_features] > (Q3 + 1.5 * IQR))).any(axis=1)\n",
        "df_filtered_numeric = cpns.loc[condition, numerical_features]\n",
        "\n",
        "# Menggabungkan kembali dengan kolom kategorikal\n",
        "categorical_features = cpns.select_dtypes(include=['object']).columns\n",
        "cpns = pd.concat([df_filtered_numeric, cpns.loc[condition, categorical_features]], axis=1)  # Use df_filtered_numeric\n"
      ]
    },
    {
      "cell_type": "code",
      "execution_count": 9,
      "metadata": {},
      "outputs": [],
      "source": [
        "# Menghitung IQR, Q1, Q3 untuk kolom 'minimum_salary_idr'\n",
        "Q1 = cpns['minimum_salary_idr'].quantile(0.25)\n",
        "Q3 = cpns['minimum_salary_idr'].quantile(0.75)\n",
        "IQR = Q3 - Q1\n",
        "\n",
        "# Median dari kolom 'minimum_salary_idr'\n",
        "median = cpns['minimum_salary_idr'].median()\n",
        "\n",
        "# Mengganti outlier dengan median\n",
        "cpns['minimum_salary_idr'] = cpns['minimum_salary_idr'].apply(\n",
        "    lambda x: median if x < (Q1 - 1.5 * IQR) or x > (Q3 + 1.5 * IQR) else x\n",
        ")\n"
      ]
    },
    {
      "cell_type": "code",
      "execution_count": 8,
      "metadata": {},
      "outputs": [
        {
          "name": "stdout",
          "output_type": "stream",
          "text": [
            "                                formation_id  \\\n",
            "53      0d713fa6-9a26-491e-9ef3-55715aaf0594   \n",
            "54      0ef20e16-82d9-4e4c-a457-97a6978f748b   \n",
            "55      298cad6b-f89b-49c4-b4df-8f5ef68f3d2d   \n",
            "56      2f0fdba3-c357-4d07-b890-d87cb9f9d2f2   \n",
            "57      822084f1-0237-4112-a565-18be97ae5834   \n",
            "...                                      ...   \n",
            "653465      8a03849f914ed85101914f4954db3edf   \n",
            "653466  22e71449-7032-4838-a2d4-3520b86b8cd5   \n",
            "653530  a7264252-62c9-45af-8b70-68ed28d15bd4   \n",
            "653531  96fac3a0-16a4-4987-85cd-a6391336cc52   \n",
            "653532  cda697ea-a44f-4baf-9317-71e3fc1f1c2e   \n",
            "\n",
            "                                                   agency admission_path  \\\n",
            "53      Kementerian Perencanaan Pembangunan Nasional/B...           CPNS   \n",
            "54      Kementerian Perencanaan Pembangunan Nasional/B...           CPNS   \n",
            "55      Kementerian Perencanaan Pembangunan Nasional/B...           CPNS   \n",
            "56      Kementerian Perencanaan Pembangunan Nasional/B...           CPNS   \n",
            "57      Kementerian Perencanaan Pembangunan Nasional/B...           CPNS   \n",
            "...                                                   ...            ...   \n",
            "653465                                    Kejaksaan Agung           CPNS   \n",
            "653466         Kementerian Energi dan Sumber Daya Mineral           CPNS   \n",
            "653530                       Komisi Pemberantasan Korupsi           CPNS   \n",
            "653531                         Otorita Ibu Kota Nusantara           CPNS   \n",
            "653532                         Otorita Ibu Kota Nusantara           CPNS   \n",
            "\n",
            "       fomation_category                                           position  \\\n",
            "53                  UMUM                                 ARSIPARIS TERAMPIL   \n",
            "54                  UMUM                                 ARSIPARIS TERAMPIL   \n",
            "55                  UMUM                                 ARSIPARIS TERAMPIL   \n",
            "56                  UMUM                                 ARSIPARIS TERAMPIL   \n",
            "57                  UMUM                                 ARSIPARIS TERAMPIL   \n",
            "...                  ...                                                ...   \n",
            "653465              UMUM                               PETUGAS BARANG BUKTI   \n",
            "653466              UMUM                     PENATA LAKSANA BARANG TERAMPIL   \n",
            "653530              UMUM  PRANATA PEMBERANTASAN TINDAK PIDANA KORUPSI TE...   \n",
            "653531              UMUM               PRANATA HUBUNGAN MASYARAKAT TERAMPIL   \n",
            "653532              UMUM       TEKNISI PENELITIAN DAN PEREKAYASAAN TERAMPIL   \n",
            "\n",
            "                                                 location  num_of_formation  \\\n",
            "53      Kementerian PPN/BAPPENAS | Deputi Bidang Polit...                 1   \n",
            "54      Kementerian PPN/BAPPENAS | Deputi Bidang Kepen...                 1   \n",
            "55      Kementerian PPN/BAPPENAS | Sekretaris Kementer...                 1   \n",
            "56      Kementerian PPN/BAPPENAS | Sekretaris Kementer...                 2   \n",
            "57      Kementerian PPN/BAPPENAS | Sekretaris Kementer...                 1   \n",
            "...                                                   ...               ...   \n",
            "653465                                    Kejaksaan Agung               701   \n",
            "653466  KEMENTERIAN ENERGI DAN SUMBER DAYA MINERAL | B...                 1   \n",
            "653530  KOMISI PEMBERANTASAN KORUPSI | DEPUTI BIDANG I...                 1   \n",
            "653531  OTORITA IBU KOTA NUSANTARA | SEKRETARIAT OTORI...                 1   \n",
            "653532  OTORITA IBU KOTA NUSANTARA | DEPUTI BIDANG TRA...                 1   \n",
            "\n",
            "        allow_disability  minimum_salary_idr  maximum_salary_idr  \\\n",
            "53                     0             7500000             9000000   \n",
            "54                     0             7500000             9000000   \n",
            "55                     0             7500000             9000000   \n",
            "56                     0             7500000             9000000   \n",
            "57                     0             7500000             9000000   \n",
            "...                  ...                 ...                 ...   \n",
            "653465                 1             7815650             9605150   \n",
            "653466                 1             7500000             8100000   \n",
            "653530                 0             7000000             9000000   \n",
            "653531                 1            10000000            12500000   \n",
            "653532                 1            10000000            12500000   \n",
            "\n",
            "        education_code                 education_major  education_level_id  \\\n",
            "53             4416110         D-III ILMU PERPUSTAKAAN                  30   \n",
            "54             4416110         D-III ILMU PERPUSTAKAAN                  30   \n",
            "55             4416110         D-III ILMU PERPUSTAKAAN                  30   \n",
            "56             4416110         D-III ILMU PERPUSTAKAAN                  30   \n",
            "57             4416110         D-III ILMU PERPUSTAKAAN                  30   \n",
            "...                ...                             ...                 ...   \n",
            "653465         4100944  D-III TEKNOLOGI TELEKOMUNIKASI                  30   \n",
            "653466         4100944  D-III TEKNOLOGI TELEKOMUNIKASI                  30   \n",
            "653530         4100944  D-III TEKNOLOGI TELEKOMUNIKASI                  30   \n",
            "653531         4100944  D-III TEKNOLOGI TELEKOMUNIKASI                  30   \n",
            "653532         4100944  D-III TEKNOLOGI TELEKOMUNIKASI                  30   \n",
            "\n",
            "                 education_level  \n",
            "53      Diploma III/Sarjana Muda  \n",
            "54      Diploma III/Sarjana Muda  \n",
            "55      Diploma III/Sarjana Muda  \n",
            "56      Diploma III/Sarjana Muda  \n",
            "57      Diploma III/Sarjana Muda  \n",
            "...                          ...  \n",
            "653465  Diploma III/Sarjana Muda  \n",
            "653466  Diploma III/Sarjana Muda  \n",
            "653530  Diploma III/Sarjana Muda  \n",
            "653531  Diploma III/Sarjana Muda  \n",
            "653532  Diploma III/Sarjana Muda  \n",
            "\n",
            "[105440 rows x 14 columns]\n"
          ]
        }
      ],
      "source": [
        "# Menampilkan baris dengan outlier di minimum_salary_idr\n",
        "Q1 = cpns['minimum_salary_idr'].quantile(0.25)\n",
        "Q3 = cpns['minimum_salary_idr'].quantile(0.75)\n",
        "IQR = Q3 - Q1\n",
        "\n",
        "outliers = cpns[(cpns['minimum_salary_idr'] < (Q1 - 1.5 * IQR)) | \n",
        "                (cpns['minimum_salary_idr'] > (Q3 + 1.5 * IQR))]\n",
        "print(outliers)\n"
      ]
    },
    {
      "cell_type": "markdown",
      "metadata": {},
      "source": [
        "## Kesimpulan Data Preprocessing\n",
        "\n",
        "Pada tahap ini, data preprocessing adalah langkah penting untuk memastikan kualitas data sebelum digunakan dalam model machine learning. Data mentah sering kali mengandung nilai kosong, duplikasi, atau rentang nilai yang tidak konsisten, yang dapat memengaruhi kinerja model. Oleh karena itu, proses ini bertujuan untuk membersihkan dan mempersiapkan data agar analisis berjalan optimal.\n",
        "\n",
        "### Tahapan-Tahapan yang Dilakukan\n",
        "Berikut adalah tahapan-tahapan yang telah dilakukan dalam proses data preprocessing:\n",
        "\n",
        "1. **Menghapus atau Menangani Data Kosong (Missing Values)**  \n",
        "   - Nilai kosong pada beberapa kolom telah diperiksa. Jika terdapat nilai kosong yang signifikan, metode seperti pengisian dengan rata-rata/median atau penghapusan baris telah diterapkan sesuai dengan kebutuhan.\n",
        "\n",
        "2. **Menghapus Data Duplikat**  \n",
        "   - Data duplikat telah diidentifikasi dan dihapus untuk memastikan tidak ada pengaruh negatif terhadap analisis.\n",
        "\n",
        "3. **Normalisasi atau Standarisasi Fitur**  \n",
        "   - Kolom numerik seperti `minimum_salary_idr` dan `maximum_salary_idr` telah dinormalisasi untuk menyamakan skala fitur. Hal ini penting untuk model berbasis jarak atau regresi.\n",
        "\n",
        "4. **Deteksi dan Penanganan Outlier**  \n",
        "   - Outlier pada kolom numerik seperti `minimum_salary_idr` dan `maximum_salary_idr` serta `num_of_formation` telah dianalisis melalui box plot. Berdasarkan hasil analisis, outlier diputuskan untuk **dibiarkan** karena mereka dianggap sebagai data valid yang merefleksikan realitas (bukan kesalahan input).\n",
        "\n",
        "5. **Encoding Data Kategorikal**  \n",
        "   - Kolom kategorikal seperti `admission_path` dan `education_level` telah di-encode menjadi nilai numerik agar kompatibel dengan algoritma machine learning.\n",
        "\n",
        "6. **Binning (Pengelompokan Data)**  \n",
        "   - Binning dilakukan pada beberapa fitur numerik untuk mengelompokkan nilai menjadi kategori tertentu (jika relevan).\n",
        "\n",
        "### Alasan Keputusan untuk Membiarkan Outlier\n",
        "Berdasarkan analisis yang dilakukan, outlier ditemukan pada beberapa fitur seperti gaji dan jumlah formasi (`num_of_formation`). Namun, setelah investigasi lebih lanjut, outlier tersebut diputuskan untuk tetap dipertahankan karena:\n",
        "- Mereka mencerminkan variasi data yang valid dan relevan secara bisnis.\n",
        "- Tidak ada indikasi bahwa mereka adalah hasil kesalahan input data.\n",
        "- Memiliki potensi memberikan insight yang signifikan dalam analisis mendalam atau model prediktif.\n",
        "\n",
        "### Kesimpulan Akhir\n",
        "Proses preprocessing ini memastikan bahwa data siap digunakan untuk analisis lebih lanjut dan pengembangan model machine learning. Keputusan yang dibuat selama proses ini, seperti membiarkan outlier dan normalisasi fitur, didasarkan pada karakteristik data dan tujuan analisis. Data yang bersih dan terorganisir akan meningkatkan keakuratan model serta validitas hasil analisis.\n"
      ]
    },
    {
      "cell_type": "markdown",
      "metadata": {
        "id": "BR73dCnrLEiq"
      },
      "source": [
        "# **6. Pembangunan Model Clustering**"
      ]
    },
    {
      "cell_type": "markdown",
      "metadata": {
        "id": "Fkd_QHXWMBDr"
      },
      "source": [
        "## **a. Pembangunan Model Clustering**"
      ]
    },
    {
      "cell_type": "markdown",
      "metadata": {
        "id": "Kn6Y2qbqMVLP"
      },
      "source": [
        "Pada tahap ini, Anda membangun model clustering dengan memilih algoritma yang sesuai untuk mengelompokkan data berdasarkan kesamaan. Berikut adalah **rekomendasi** tahapannya.\n",
        "1. Pilih algoritma clustering yang sesuai.\n",
        "2. Latih model dengan data menggunakan algoritma tersebut."
      ]
    },
    {
      "cell_type": "code",
      "execution_count": 16,
      "metadata": {
        "id": "hgYvwWOzM93L"
      },
      "outputs": [
        {
          "name": "stdout",
          "output_type": "stream",
          "text": [
            "Mean Absolute Error: 3.95040847229712e-06\n",
            "Mean Squared Error: 2.2108235372627538e-07\n",
            "R-squared: 0.99999977953693\n"
          ]
        }
      ],
      "source": [
        "from sklearn.ensemble import RandomForestRegressor\n",
        "from sklearn.model_selection import train_test_split\n",
        "\n",
        "# Pisahkan data fitur dan target\n",
        "X = cpns[numerical_features + categorical_features].drop(columns=['formation_id'])  # Exclude 'formation_id'\n",
        "y = cpns['minimum_salary_idr']  # Target: contoh memprediksi 'minimum_salary_idr'\n",
        "\n",
        "# Split data menjadi training dan testing\n",
        "X_train, X_test, y_train, y_test = train_test_split(X, y, test_size=0.2, random_state=42)\n",
        "\n",
        "# === Random Forest Model ===\n",
        "rf_model = RandomForestRegressor(n_estimators=100, random_state=42)\n",
        "\n",
        "# Melatih model\n",
        "rf_model.fit(X_train, y_train)\n",
        "\n",
        "# === Prediksi ===\n",
        "y_pred = rf_model.predict(X_test)\n",
        "\n",
        "# Menilai model\n",
        "from sklearn.metrics import mean_absolute_error, mean_squared_error, r2_score\n",
        "\n",
        "mae = mean_absolute_error(y_test, y_pred)\n",
        "mse = mean_squared_error(y_test, y_pred)\n",
        "r2 = r2_score(y_test, y_pred)\n",
        "\n",
        "print(f\"Mean Absolute Error: {mae}\")\n",
        "print(f\"Mean Squared Error: {mse}\")\n",
        "print(f\"R-squared: {r2}\")\n"
      ]
    },
    {
      "cell_type": "markdown",
      "metadata": {
        "id": "zsGVwzPKMEvn"
      },
      "source": [
        "## **b. Evaluasi Model Clustering**"
      ]
    },
    {
      "cell_type": "markdown",
      "metadata": {
        "id": "qk63ew39MeBf"
      },
      "source": [
        "Untuk menentukan jumlah cluster yang optimal dalam model clustering, Anda dapat menggunakan metode Elbow atau Silhouette Score.\n",
        "\n",
        "Metode ini membantu kita menemukan jumlah cluster yang memberikan pemisahan terbaik antar kelompok data, sehingga model yang dibangun dapat lebih efektif. Berikut adalah **rekomendasi** tahapannya.\n",
        "1. Gunakan Silhouette Score dan Elbow Method untuk menentukan jumlah cluster optimal.\n",
        "2. Hitung Silhouette Score sebagai ukuran kualitas cluster."
      ]
    },
    {
      "cell_type": "code",
      "execution_count": 17,
      "metadata": {
        "id": "yrPkK_bvM-Ya"
      },
      "outputs": [
        {
          "name": "stderr",
          "output_type": "stream",
          "text": [
            "/home/user/PHYSIC-AIR-DATA-QUALITY-CONTROL/.venv/lib/python3.13/site-packages/joblib/externals/loky/backend/context.py:136: UserWarning: Could not find the number of physical cores for the following reason:\n",
            "[Errno 2] No such file or directory: 'lscpu'\n",
            "Returning the number of logical cores instead. You can silence this warning by setting LOKY_MAX_CPU_COUNT to the number of cores you want to use.\n",
            "  warnings.warn(\n",
            "  File \"/home/user/PHYSIC-AIR-DATA-QUALITY-CONTROL/.venv/lib/python3.13/site-packages/joblib/externals/loky/backend/context.py\", line 250, in _count_physical_cores\n",
            "    cpu_info = subprocess.run(\n",
            "        \"lscpu --parse=core\".split(), capture_output=True, text=True\n",
            "    )\n",
            "  File \"/nix/store/fqlms5ka4kn0x6jszsnkl1j2rb22f3vw-python3-3.13.0/lib/python3.13/subprocess.py\", line 554, in run\n",
            "    with Popen(*popenargs, **kwargs) as process:\n",
            "         ~~~~~^^^^^^^^^^^^^^^^^^^^^^\n",
            "  File \"/nix/store/fqlms5ka4kn0x6jszsnkl1j2rb22f3vw-python3-3.13.0/lib/python3.13/subprocess.py\", line 1036, in __init__\n",
            "    self._execute_child(args, executable, preexec_fn, close_fds,\n",
            "    ~~~~~~~~~~~~~~~~~~~^^^^^^^^^^^^^^^^^^^^^^^^^^^^^^^^^^^^^^^^^\n",
            "                        pass_fds, cwd, env,\n",
            "                        ^^^^^^^^^^^^^^^^^^^\n",
            "    ...<5 lines>...\n",
            "                        gid, gids, uid, umask,\n",
            "                        ^^^^^^^^^^^^^^^^^^^^^^\n",
            "                        start_new_session, process_group)\n",
            "                        ^^^^^^^^^^^^^^^^^^^^^^^^^^^^^^^^^\n",
            "  File \"/nix/store/fqlms5ka4kn0x6jszsnkl1j2rb22f3vw-python3-3.13.0/lib/python3.13/subprocess.py\", line 1966, in _execute_child\n",
            "    raise child_exception_type(errno_num, err_msg, err_filename)\n"
          ]
        },
        {
          "data": {
            "image/png": "[encoded data removed]",
            "text/plain": [
              "<Figure size 640x480 with 1 Axes>"
            ]
          },
          "metadata": {},
          "output_type": "display_data"
        }
      ],
      "source": [
        "import matplotlib.pyplot as plt\n",
        "from sklearn.cluster import KMeans\n",
        "\n",
        "# Tentukan jumlah cluster yang ingin diuji\n",
        "range_n_clusters = range(1, 11)  # Misalnya, kita uji dari 1 hingga 10 cluster\n",
        "wcss = []  # Untuk menyimpan hasil WCSS\n",
        "\n",
        "# Melakukan KMeans untuk berbagai jumlah cluster\n",
        "for n_clusters in range_n_clusters:\n",
        "    kmeans = KMeans(n_clusters=n_clusters, random_state=42)\n",
        "    kmeans.fit(X)  # X adalah data yang digunakan untuk clustering\n",
        "    wcss.append(kmeans.inertia_)\n",
        "\n",
        "# Plot WCSS untuk setiap jumlah cluster\n",
        "plt.plot(range_n_clusters, wcss, marker='o')\n",
        "plt.title('Elbow Method For Optimal Number of Clusters')\n",
        "plt.xlabel('Number of Clusters')\n",
        "plt.ylabel('WCSS (Within-Cluster Sum of Squares)')\n",
        "plt.show()\n"
      ]
    },
    {
      "cell_type": "code",
      "execution_count": null,
      "metadata": {},
      "outputs": [],
      "source": [
        "from sklearn.metrics import silhouette_score\n",
        "\n",
        "# Tentukan jumlah cluster yang ingin diuji\n",
        "range_n_clusters = range(2, 11)  # Silhouette Score hanya valid untuk 2 cluster ke atas\n",
        "sil_scores = []  # Untuk menyimpan hasil Silhouette Score\n",
        "\n",
        "# Melakukan KMeans untuk berbagai jumlah cluster dan menghitung Silhouette Score\n",
        "for n_clusters in range_n_clusters:\n",
        "    kmeans = KMeans(n_clusters=n_clusters, random_state=42)\n",
        "    cluster_labels = kmeans.fit_predict(X)  # X adalah data yang digunakan untuk clustering\n",
        "    score = silhouette_score(X, cluster_labels)\n",
        "    sil_scores.append(score)\n",
        "\n",
        "# Plot Silhouette Scores untuk setiap jumlah cluster\n",
        "plt.plot(range_n_clusters, sil_scores, marker='o')\n",
        "plt.title('Silhouette Score For Optimal Number of Clusters')\n",
        "plt.xlabel('Number of Clusters')\n",
        "plt.ylabel('Silhouette Score')\n",
        "plt.show()\n"
      ]
    },
    {
      "cell_type": "markdown",
      "metadata": {
        "id": "vWZp5vKNQddd"
      },
      "source": [
        "## **c. Feature Selection (Opsional)**"
      ]
    },
    {
      "cell_type": "markdown",
      "metadata": {
        "id": "QIHKgE07Q4c0"
      },
      "source": [
        "Silakan lakukan feature selection jika Anda membutuhkan optimasi model clustering. Jika Anda menerapkan proses ini, silakan lakukan pemodelan dan evaluasi kembali menggunakan kolom-kolom hasil feature selection. Terakhir, bandingkan hasil performa model sebelum dan sesudah menerapkan feature selection."
      ]
    },
    {
      "cell_type": "code",
      "execution_count": null,
      "metadata": {
        "id": "Vbstha0PRUpI"
      },
      "outputs": [],
      "source": [
        "#Type your code here"
      ]
    },
    {
      "cell_type": "markdown",
      "metadata": {
        "id": "nn01TKkLLRiF"
      },
      "source": [
        "## **d. Visualisasi Hasil Clustering**"
      ]
    },
    {
      "cell_type": "markdown",
      "metadata": {
        "id": "gaz0fnhhMkRI"
      },
      "source": [
        "Setelah model clustering dilatih dan jumlah cluster optimal ditentukan, langkah selanjutnya adalah menampilkan hasil clustering melalui visualisasi.\n",
        "\n",
        "Berikut adalah **rekomendasi** tahapannya.\n",
        "1. Tampilkan hasil clustering dalam bentuk visualisasi, seperti grafik scatter plot atau 2D PCA projection."
      ]
    },
    {
      "cell_type": "code",
      "execution_count": null,
      "metadata": {
        "id": "lfOjVvfYM-4v"
      },
      "outputs": [],
      "source": [
        "#Type your code here"
      ]
    },
    {
      "cell_type": "markdown",
      "metadata": {
        "id": "X4eydPWJLH4I"
      },
      "source": [
        "## **e. Analisis dan Interpretasi Hasil Cluster**"
      ]
    },
    {
      "cell_type": "markdown",
      "metadata": {
        "id": "SENfLnfRMpC-"
      },
      "source": [
        "Setelah melakukan clustering, langkah selanjutnya adalah menganalisis karakteristik dari masing-masing cluster berdasarkan fitur yang tersedia.\n",
        "\n",
        "Berikut adalah **rekomendasi** tahapannya.\n",
        "1. Analisis karakteristik tiap cluster berdasarkan fitur yang tersedia (misalnya, distribusi nilai dalam cluster).\n",
        "2. Berikan interpretasi: Apakah hasil clustering sesuai dengan ekspektasi dan logika bisnis? Apakah ada pola tertentu yang bisa dimanfaatkan?"
      ]
    },
    {
      "cell_type": "code",
      "execution_count": null,
      "metadata": {
        "id": "MFq0x-OzM_Wt"
      },
      "outputs": [],
      "source": [
        "#Type your code here"
      ]
    },
    {
      "cell_type": "markdown",
      "metadata": {
        "id": "JfgVMEBDS3KG"
      },
      "source": [
        "Tulis hasil interpretasinya di sini.\n",
        "1. Cluster 1:\n",
        "2. Cluster 2:\n",
        "3. Cluster 3:"
      ]
    },
    {
      "cell_type": "markdown",
      "metadata": {
        "id": "jaYP1fx5VgWO"
      },
      "source": [
        "# **7. Mengeksport Data**\n",
        "\n",
        "Simpan hasilnya ke dalam file CSV."
      ]
    },
    {
      "cell_type": "code",
      "execution_count": null,
      "metadata": {
        "id": "fkbg_o80aRSH"
      },
      "outputs": [],
      "source": []
    }
  ],
  "metadata": {
    "colab": {
      "provenance": []
    },
    "kernelspec": {
      "display_name": "Python 3",
      "name": "python3"
    },
    "language_info": {
      "codemirror_mode": {
        "name": "ipython",
        "version": 3
      },
      "file_extension": ".py",
      "mimetype": "text/x-python",
      "name": "python",
      "nbconvert_exporter": "python",
      "pygments_lexer": "ipython3",
      "version": "3.13.0"
    }
  },
  "nbformat": 4,
  "nbformat_minor": 0
}
