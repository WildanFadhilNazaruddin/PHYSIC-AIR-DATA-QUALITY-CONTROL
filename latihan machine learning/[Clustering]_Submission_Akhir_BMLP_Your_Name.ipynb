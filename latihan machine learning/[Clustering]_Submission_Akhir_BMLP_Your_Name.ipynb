{
  "cells": [
    {
      "cell_type": "markdown",
      "metadata": {
        "id": "kZLRMFl0JyyQ"
      },
      "source": [
        "# **1. Perkenalan Dataset**\n"
      ]
    },
    {
      "cell_type": "markdown",
      "metadata": {
        "id": "hssSDn-5n3HR"
      },
      "source": [
        "Tahap pertama, Anda harus mencari dan menggunakan dataset **tanpa label** dengan ketentuan sebagai berikut:\n",
        "\n",
        "1. **Sumber Dataset**:  \n",
        "   Dataset dapat diperoleh dari berbagai sumber, seperti public repositories (*Kaggle*, *UCI ML Repository*, *Open Data*) atau data primer yang Anda kumpulkan sendiri.\n",
        "   \n",
        "2. **Ketentuan Dataset**:\n",
        "   - **Tanpa label**: Dataset tidak boleh memiliki label atau kelas.\n",
        "   - **Jumlah Baris**: Minimal 1000 baris untuk memastikan dataset cukup besar untuk analisis yang bermakna.\n",
        "   - **Tipe Data**: Harus mengandung data **kategorikal** dan **numerikal**.\n",
        "     - *Kategorikal*: Misalnya jenis kelamin, kategori produk.\n",
        "     - *Numerikal*: Misalnya usia, pendapatan, harga.\n",
        "\n",
        "3. **Pembatasan**:  \n",
        "   Dataset yang sudah digunakan dalam latihan clustering (seperti customer segmentation) tidak boleh digunakan."
      ]
    },
    {
      "cell_type": "code",
      "execution_count": null,
      "metadata": {},
      "outputs": [],
      "source": []
    },
    {
      "cell_type": "markdown",
      "metadata": {
        "id": "fKADPWcFKlj3"
      },
      "source": [
        "# **2. Import Library**"
      ]
    },
    {
      "cell_type": "markdown",
      "metadata": {
        "id": "LgA3ERnVn84N"
      },
      "source": [
        "Pada tahap ini, Anda perlu mengimpor beberapa pustaka (library) Python yang dibutuhkan untuk analisis data dan pembangunan model machine learning."
      ]
    },
    {
      "cell_type": "code",
      "execution_count": 5,
      "metadata": {
        "id": "BlmvjLY9M4Yj"
      },
      "outputs": [],
      "source": [
        "import os\n",
        "import zipfile\n",
        "import pandas as pd\n"
      ]
    },
    {
      "cell_type": "markdown",
      "metadata": {
        "id": "f3YIEnAFKrKL"
      },
      "source": [
        "# **3. Memuat Dataset**"
      ]
    },
    {
      "cell_type": "markdown",
      "metadata": {
        "id": "Ey3ItwTen_7E"
      },
      "source": [
        "Pada tahap ini, Anda perlu memuat dataset ke dalam notebook. Jika dataset dalam format CSV, Anda bisa menggunakan pustaka pandas untuk membacanya. Pastikan untuk mengecek beberapa baris awal dataset untuk memahami strukturnya dan memastikan data telah dimuat dengan benar.\n",
        "\n",
        "Jika dataset berada di Google Drive, pastikan Anda menghubungkan Google Drive ke Colab terlebih dahulu. Setelah dataset berhasil dimuat, langkah berikutnya adalah memeriksa kesesuaian data dan siap untuk dianalisis lebih lanjut."
      ]
    },
    {
      "cell_type": "code",
      "execution_count": 1,
      "metadata": {
        "id": "GHCGNTyrM5fS"
      },
      "outputs": [
        {
          "ename": "NameError",
          "evalue": "name 'pd' is not defined",
          "output_type": "error",
          "traceback": [
            "\u001b[0;31m---------------------------------------------------------------------------\u001b[0m",
            "\u001b[0;31mNameError\u001b[0m                                 Traceback (most recent call last)",
            "Cell \u001b[0;32mIn[1], line 1\u001b[0m\n\u001b[0;32m----> 1\u001b[0m hospital \u001b[38;5;241m=\u001b[39m \u001b[43mpd\u001b[49m\u001b[38;5;241m.\u001b[39mread_csv(\u001b[38;5;124m'\u001b[39m\u001b[38;5;124mlatihan machine learning/data/opendata.jabarprov.go.id_dataset_od_17255_jumlah_rumah_sakit_rs_berdasarkan_kabupatenkota_v1_csv.zip\u001b[39m\u001b[38;5;124m'\u001b[39m)\n",
            "\u001b[0;31mNameError\u001b[0m: name 'pd' is not defined"
          ]
        }
      ],
      "source": [
        "hospital = pd.read_csv('latihan machine learning/data/opendata.jabarprov.go.id_dataset_od_17255_jumlah_rumah_sakit_rs_berdasarkan_kabupatenkota_v1_csv.zip')"
      ]
    },
    {
      "cell_type": "code",
      "execution_count": 6,
      "metadata": {},
      "outputs": [
        {
          "data": {
            "text/html": [
              "<div>\n",
              "<style scoped>\n",
              "    .dataframe tbody tr th:only-of-type {\n",
              "        vertical-align: middle;\n",
              "    }\n",
              "\n",
              "    .dataframe tbody tr th {\n",
              "        vertical-align: top;\n",
              "    }\n",
              "\n",
              "    .dataframe thead th {\n",
              "        text-align: right;\n",
              "    }\n",
              "</style>\n",
              "<table border=\"1\" class=\"dataframe\">\n",
              "  <thead>\n",
              "    <tr style=\"text-align: right;\">\n",
              "      <th></th>\n",
              "      <th>ID</th>\n",
              "      <th>Age</th>\n",
              "      <th>Gender</th>\n",
              "      <th>Grade_Level</th>\n",
              "      <th>Strength_Score</th>\n",
              "      <th>Endurance_Score</th>\n",
              "      <th>Flexibility_Score</th>\n",
              "      <th>Speed_Agility_Score</th>\n",
              "      <th>BMI</th>\n",
              "      <th>Health_Fitness_Knowledge_Score</th>\n",
              "      <th>Skills_Score</th>\n",
              "      <th>Class_Participation_Level</th>\n",
              "      <th>Attendance_Rate</th>\n",
              "      <th>Motivation_Level</th>\n",
              "      <th>Overall_PE_Performance_Score</th>\n",
              "      <th>Improvement_Rate</th>\n",
              "      <th>Final_Grade</th>\n",
              "      <th>Previous_Semester_PE_Grade</th>\n",
              "      <th>Hours_Physical_Activity_Per_Week</th>\n",
              "      <th>Performance</th>\n",
              "    </tr>\n",
              "  </thead>\n",
              "  <tbody>\n",
              "    <tr>\n",
              "      <th>0</th>\n",
              "      <td>1</td>\n",
              "      <td>16</td>\n",
              "      <td>Other</td>\n",
              "      <td>10th</td>\n",
              "      <td>46.642153</td>\n",
              "      <td>46.429238</td>\n",
              "      <td>50.363292</td>\n",
              "      <td>51.647608</td>\n",
              "      <td>29.237225</td>\n",
              "      <td>83.467708</td>\n",
              "      <td>62.546020</td>\n",
              "      <td>Medium</td>\n",
              "      <td>79.090405</td>\n",
              "      <td>Medium</td>\n",
              "      <td>71.983935</td>\n",
              "      <td>3.806210</td>\n",
              "      <td>A</td>\n",
              "      <td>B</td>\n",
              "      <td>6.141111</td>\n",
              "      <td>Low Performer</td>\n",
              "    </tr>\n",
              "    <tr>\n",
              "      <th>1</th>\n",
              "      <td>2</td>\n",
              "      <td>17</td>\n",
              "      <td>Male</td>\n",
              "      <td>9th</td>\n",
              "      <td>66.690215</td>\n",
              "      <td>66.508482</td>\n",
              "      <td>71.183308</td>\n",
              "      <td>50.508877</td>\n",
              "      <td>21.127816</td>\n",
              "      <td>53.727726</td>\n",
              "      <td>67.261465</td>\n",
              "      <td>High</td>\n",
              "      <td>92.294441</td>\n",
              "      <td>Medium</td>\n",
              "      <td>69.908176</td>\n",
              "      <td>1.651061</td>\n",
              "      <td>B</td>\n",
              "      <td>A</td>\n",
              "      <td>5.055664</td>\n",
              "      <td>Average Performer</td>\n",
              "    </tr>\n",
              "    <tr>\n",
              "      <th>2</th>\n",
              "      <td>3</td>\n",
              "      <td>14</td>\n",
              "      <td>Male</td>\n",
              "      <td>12th</td>\n",
              "      <td>47.404086</td>\n",
              "      <td>48.199333</td>\n",
              "      <td>48.805379</td>\n",
              "      <td>51.733417</td>\n",
              "      <td>18.609464</td>\n",
              "      <td>74.009057</td>\n",
              "      <td>55.150633</td>\n",
              "      <td>Medium</td>\n",
              "      <td>91.857339</td>\n",
              "      <td>High</td>\n",
              "      <td>64.822426</td>\n",
              "      <td>4.781953</td>\n",
              "      <td>C</td>\n",
              "      <td>B</td>\n",
              "      <td>6.514409</td>\n",
              "      <td>Average Performer</td>\n",
              "    </tr>\n",
              "    <tr>\n",
              "      <th>3</th>\n",
              "      <td>4</td>\n",
              "      <td>16</td>\n",
              "      <td>Other</td>\n",
              "      <td>12th</td>\n",
              "      <td>34.968570</td>\n",
              "      <td>51.506917</td>\n",
              "      <td>56.785577</td>\n",
              "      <td>52.439532</td>\n",
              "      <td>19.391644</td>\n",
              "      <td>68.971793</td>\n",
              "      <td>69.474886</td>\n",
              "      <td>Medium</td>\n",
              "      <td>99.498886</td>\n",
              "      <td>Medium</td>\n",
              "      <td>72.178023</td>\n",
              "      <td>5.068751</td>\n",
              "      <td>A</td>\n",
              "      <td>C</td>\n",
              "      <td>2.916263</td>\n",
              "      <td>Average Performer</td>\n",
              "    </tr>\n",
              "    <tr>\n",
              "      <th>4</th>\n",
              "      <td>5</td>\n",
              "      <td>16</td>\n",
              "      <td>Male</td>\n",
              "      <td>12th</td>\n",
              "      <td>47.542569</td>\n",
              "      <td>47.923138</td>\n",
              "      <td>34.064097</td>\n",
              "      <td>47.767977</td>\n",
              "      <td>17.641468</td>\n",
              "      <td>79.322630</td>\n",
              "      <td>57.834987</td>\n",
              "      <td>High</td>\n",
              "      <td>99.640018</td>\n",
              "      <td>Medium</td>\n",
              "      <td>74.755884</td>\n",
              "      <td>5.321179</td>\n",
              "      <td>B</td>\n",
              "      <td>B</td>\n",
              "      <td>9.975924</td>\n",
              "      <td>Average Performer</td>\n",
              "    </tr>\n",
              "  </tbody>\n",
              "</table>\n",
              "</div>"
            ],
            "text/plain": [
              "   ID  Age Gender Grade_Level  Strength_Score  Endurance_Score  \\\n",
              "0   1   16  Other        10th       46.642153        46.429238   \n",
              "1   2   17   Male         9th       66.690215        66.508482   \n",
              "2   3   14   Male        12th       47.404086        48.199333   \n",
              "3   4   16  Other        12th       34.968570        51.506917   \n",
              "4   5   16   Male        12th       47.542569        47.923138   \n",
              "\n",
              "   Flexibility_Score  Speed_Agility_Score        BMI  \\\n",
              "0          50.363292            51.647608  29.237225   \n",
              "1          71.183308            50.508877  21.127816   \n",
              "2          48.805379            51.733417  18.609464   \n",
              "3          56.785577            52.439532  19.391644   \n",
              "4          34.064097            47.767977  17.641468   \n",
              "\n",
              "   Health_Fitness_Knowledge_Score  Skills_Score Class_Participation_Level  \\\n",
              "0                       83.467708     62.546020                    Medium   \n",
              "1                       53.727726     67.261465                      High   \n",
              "2                       74.009057     55.150633                    Medium   \n",
              "3                       68.971793     69.474886                    Medium   \n",
              "4                       79.322630     57.834987                      High   \n",
              "\n",
              "   Attendance_Rate Motivation_Level  Overall_PE_Performance_Score  \\\n",
              "0        79.090405           Medium                     71.983935   \n",
              "1        92.294441           Medium                     69.908176   \n",
              "2        91.857339             High                     64.822426   \n",
              "3        99.498886           Medium                     72.178023   \n",
              "4        99.640018           Medium                     74.755884   \n",
              "\n",
              "   Improvement_Rate Final_Grade Previous_Semester_PE_Grade  \\\n",
              "0          3.806210           A                          B   \n",
              "1          1.651061           B                          A   \n",
              "2          4.781953           C                          B   \n",
              "3          5.068751           A                          C   \n",
              "4          5.321179           B                          B   \n",
              "\n",
              "   Hours_Physical_Activity_Per_Week        Performance  \n",
              "0                          6.141111      Low Performer  \n",
              "1                          5.055664  Average Performer  \n",
              "2                          6.514409  Average Performer  \n",
              "3                          2.916263  Average Performer  \n",
              "4                          9.975924  Average Performer  "
            ]
          },
          "execution_count": 6,
          "metadata": {},
          "output_type": "execute_result"
        }
      ],
      "source": [
        "student.head()"
      ]
    },
    {
      "cell_type": "code",
      "execution_count": 7,
      "metadata": {},
      "outputs": [
        {
          "data": {
            "text/plain": [
              "<bound method DataFrame.info of       ID  Age  Gender Grade_Level  Strength_Score  Endurance_Score  \\\n",
              "0      1   16   Other        10th       46.642153        46.429238   \n",
              "1      2   17    Male         9th       66.690215        66.508482   \n",
              "2      3   14    Male        12th       47.404086        48.199333   \n",
              "3      4   16   Other        12th       34.968570        51.506917   \n",
              "4      5   16    Male        12th       47.542569        47.923138   \n",
              "..   ...  ...     ...         ...             ...              ...   \n",
              "495  496   16    Male        10th       59.640872        45.156218   \n",
              "496  497   16    Male        10th       61.894705        38.538529   \n",
              "497  498   17    Male        11th       37.723922        55.083189   \n",
              "498  499   14  Female        10th       55.974001        74.750299   \n",
              "499  500   17    Male        11th       57.011727        37.189605   \n",
              "\n",
              "     Flexibility_Score  Speed_Agility_Score        BMI  \\\n",
              "0            50.363292            51.647608  29.237225   \n",
              "1            71.183308            50.508877  21.127816   \n",
              "2            48.805379            51.733417  18.609464   \n",
              "3            56.785577            52.439532  19.391644   \n",
              "4            34.064097            47.767977  17.641468   \n",
              "..                 ...                  ...        ...   \n",
              "495          41.395973            60.715432  23.772009   \n",
              "496          51.527844            51.906356  25.806199   \n",
              "497          73.235302            59.413106  17.915350   \n",
              "498          31.413394            39.674761  23.893888   \n",
              "499          27.987121            53.979270  20.929436   \n",
              "\n",
              "     Health_Fitness_Knowledge_Score  Skills_Score Class_Participation_Level  \\\n",
              "0                         83.467708     62.546020                    Medium   \n",
              "1                         53.727726     67.261465                      High   \n",
              "2                         74.009057     55.150633                    Medium   \n",
              "3                         68.971793     69.474886                    Medium   \n",
              "4                         79.322630     57.834987                      High   \n",
              "..                              ...           ...                       ...   \n",
              "495                       77.668184     64.176354                      High   \n",
              "496                       71.608777     69.161193                    Medium   \n",
              "497                       78.700611     75.069363                      High   \n",
              "498                       73.762673     83.369555                    Medium   \n",
              "499                       79.578056     70.063448                       Low   \n",
              "\n",
              "     Attendance_Rate Motivation_Level  Overall_PE_Performance_Score  \\\n",
              "0          79.090405           Medium                     71.983935   \n",
              "1          92.294441           Medium                     69.908176   \n",
              "2          91.857339             High                     64.822426   \n",
              "3          99.498886           Medium                     72.178023   \n",
              "4          99.640018           Medium                     74.755884   \n",
              "..               ...              ...                           ...   \n",
              "495        97.349326              Low                     67.347625   \n",
              "496        97.994814             High                     70.337191   \n",
              "497        77.371230             High                     72.685936   \n",
              "498        88.603150           Medium                     58.851778   \n",
              "499        93.512738              Low                     81.969109   \n",
              "\n",
              "     Improvement_Rate Final_Grade Previous_Semester_PE_Grade  \\\n",
              "0            3.806210           A                          B   \n",
              "1            1.651061           B                          A   \n",
              "2            4.781953           C                          B   \n",
              "3            5.068751           A                          C   \n",
              "4            5.321179           B                          B   \n",
              "..                ...         ...                        ...   \n",
              "495          4.787819           C                          B   \n",
              "496          7.466812           B                          A   \n",
              "497          4.984622           B                          C   \n",
              "498          4.224248           A                          B   \n",
              "499          7.612144           B                          B   \n",
              "\n",
              "     Hours_Physical_Activity_Per_Week        Performance  \n",
              "0                            6.141111      Low Performer  \n",
              "1                            5.055664  Average Performer  \n",
              "2                            6.514409  Average Performer  \n",
              "3                            2.916263  Average Performer  \n",
              "4                            9.975924  Average Performer  \n",
              "..                                ...                ...  \n",
              "495                          5.163913      Low Performer  \n",
              "496                          4.578708  Average Performer  \n",
              "497                          6.883151      Low Performer  \n",
              "498                          9.512870      Low Performer  \n",
              "499                          7.373959      Low Performer  \n",
              "\n",
              "[500 rows x 20 columns]>"
            ]
          },
          "execution_count": 7,
          "metadata": {},
          "output_type": "execute_result"
        }
      ],
      "source": [
        "student.info"
      ]
    },
    {
      "cell_type": "markdown",
      "metadata": {
        "id": "bgZkbJLpK9UR"
      },
      "source": [
        "# **4. Exploratory Data Analysis (EDA)**\n",
        "\n",
        "Pada tahap ini, Anda akan melakukan **Exploratory Data Analysis (EDA)** untuk memahami karakteristik dataset. EDA bertujuan untuk:\n",
        "\n",
        "1. **Memahami Struktur Data**\n",
        "   - Tinjau jumlah baris dan kolom dalam dataset.  \n",
        "   - Tinjau jenis data di setiap kolom (numerikal atau kategorikal).\n",
        "\n",
        "2. **Menangani Data yang Hilang**  \n",
        "   - Identifikasi dan analisis data yang hilang (*missing values*). Tentukan langkah-langkah yang diperlukan untuk menangani data yang hilang, seperti pengisian atau penghapusan data tersebut.\n",
        "\n",
        "3. **Analisis Distribusi dan Korelasi**  \n",
        "   - Analisis distribusi variabel numerik dengan statistik deskriptif dan visualisasi seperti histogram atau boxplot.  \n",
        "   - Periksa hubungan antara variabel menggunakan matriks korelasi atau scatter plot.\n",
        "\n",
        "4. **Visualisasi Data**  \n",
        "   - Buat visualisasi dasar seperti grafik distribusi dan diagram batang untuk variabel kategorikal.  \n",
        "   - Gunakan heatmap atau pairplot untuk menganalisis korelasi antar variabel.\n",
        "\n",
        "Tujuan dari EDA adalah untuk memperoleh wawasan awal yang mendalam mengenai data dan menentukan langkah selanjutnya dalam analisis atau pemodelan."
      ]
    },
    {
      "cell_type": "code",
      "execution_count": null,
      "metadata": {
        "id": "dKeejtvxM6X1"
      },
      "outputs": [],
      "source": [
        "#Type your code here"
      ]
    },
    {
      "cell_type": "markdown",
      "metadata": {
        "id": "cpgHfgnSK3ip"
      },
      "source": [
        "# **5. Data Preprocessing**"
      ]
    },
    {
      "cell_type": "markdown",
      "metadata": {
        "id": "COf8KUPXLg5r"
      },
      "source": [
        "Pada tahap ini, data preprocessing adalah langkah penting untuk memastikan kualitas data sebelum digunakan dalam model machine learning. Data mentah sering kali mengandung nilai kosong, duplikasi, atau rentang nilai yang tidak konsisten, yang dapat memengaruhi kinerja model. Oleh karena itu, proses ini bertujuan untuk membersihkan dan mempersiapkan data agar analisis berjalan optimal.\n",
        "\n",
        "Berikut adalah tahapan-tahapan yang perlu dilakukan, namun **tidak terbatas** pada:\n",
        "1. Menghapus atau Menangani Data Kosong (Missing Values)\n",
        "2. Menghapus Data Duplikat\n",
        "3. Normalisasi atau Standarisasi Fitur\n",
        "4. Deteksi dan Penanganan Outlier\n",
        "5. Encoding Data Kategorikal\n",
        "6. Binning (Pengelompokan Data)"
      ]
    },
    {
      "cell_type": "code",
      "execution_count": null,
      "metadata": {
        "id": "WzBGjcbQM7N8"
      },
      "outputs": [],
      "source": [
        "#Type your code here"
      ]
    },
    {
      "cell_type": "markdown",
      "metadata": {
        "id": "BR73dCnrLEiq"
      },
      "source": [
        "# **6. Pembangunan Model Clustering**"
      ]
    },
    {
      "cell_type": "markdown",
      "metadata": {
        "id": "Fkd_QHXWMBDr"
      },
      "source": [
        "## **a. Pembangunan Model Clustering**"
      ]
    },
    {
      "cell_type": "markdown",
      "metadata": {
        "id": "Kn6Y2qbqMVLP"
      },
      "source": [
        "Pada tahap ini, Anda membangun model clustering dengan memilih algoritma yang sesuai untuk mengelompokkan data berdasarkan kesamaan. Berikut adalah **rekomendasi** tahapannya.\n",
        "1. Pilih algoritma clustering yang sesuai.\n",
        "2. Latih model dengan data menggunakan algoritma tersebut."
      ]
    },
    {
      "cell_type": "code",
      "execution_count": null,
      "metadata": {
        "id": "hgYvwWOzM93L"
      },
      "outputs": [],
      "source": [
        "#Type your code here"
      ]
    },
    {
      "cell_type": "markdown",
      "metadata": {
        "id": "zsGVwzPKMEvn"
      },
      "source": [
        "## **b. Evaluasi Model Clustering**"
      ]
    },
    {
      "cell_type": "markdown",
      "metadata": {
        "id": "qk63ew39MeBf"
      },
      "source": [
        "Untuk menentukan jumlah cluster yang optimal dalam model clustering, Anda dapat menggunakan metode Elbow atau Silhouette Score.\n",
        "\n",
        "Metode ini membantu kita menemukan jumlah cluster yang memberikan pemisahan terbaik antar kelompok data, sehingga model yang dibangun dapat lebih efektif. Berikut adalah **rekomendasi** tahapannya.\n",
        "1. Gunakan Silhouette Score dan Elbow Method untuk menentukan jumlah cluster optimal.\n",
        "2. Hitung Silhouette Score sebagai ukuran kualitas cluster."
      ]
    },
    {
      "cell_type": "code",
      "execution_count": null,
      "metadata": {
        "id": "yrPkK_bvM-Ya"
      },
      "outputs": [],
      "source": [
        "#Type your code here"
      ]
    },
    {
      "cell_type": "markdown",
      "metadata": {
        "id": "vWZp5vKNQddd"
      },
      "source": [
        "## **c. Feature Selection (Opsional)**"
      ]
    },
    {
      "cell_type": "markdown",
      "metadata": {
        "id": "QIHKgE07Q4c0"
      },
      "source": [
        "Silakan lakukan feature selection jika Anda membutuhkan optimasi model clustering. Jika Anda menerapkan proses ini, silakan lakukan pemodelan dan evaluasi kembali menggunakan kolom-kolom hasil feature selection. Terakhir, bandingkan hasil performa model sebelum dan sesudah menerapkan feature selection."
      ]
    },
    {
      "cell_type": "code",
      "execution_count": null,
      "metadata": {
        "id": "Vbstha0PRUpI"
      },
      "outputs": [],
      "source": [
        "#Type your code here"
      ]
    },
    {
      "cell_type": "markdown",
      "metadata": {
        "id": "nn01TKkLLRiF"
      },
      "source": [
        "## **d. Visualisasi Hasil Clustering**"
      ]
    },
    {
      "cell_type": "markdown",
      "metadata": {
        "id": "gaz0fnhhMkRI"
      },
      "source": [
        "Setelah model clustering dilatih dan jumlah cluster optimal ditentukan, langkah selanjutnya adalah menampilkan hasil clustering melalui visualisasi.\n",
        "\n",
        "Berikut adalah **rekomendasi** tahapannya.\n",
        "1. Tampilkan hasil clustering dalam bentuk visualisasi, seperti grafik scatter plot atau 2D PCA projection."
      ]
    },
    {
      "cell_type": "code",
      "execution_count": null,
      "metadata": {
        "id": "lfOjVvfYM-4v"
      },
      "outputs": [],
      "source": [
        "#Type your code here"
      ]
    },
    {
      "cell_type": "markdown",
      "metadata": {
        "id": "X4eydPWJLH4I"
      },
      "source": [
        "## **e. Analisis dan Interpretasi Hasil Cluster**"
      ]
    },
    {
      "cell_type": "markdown",
      "metadata": {
        "id": "SENfLnfRMpC-"
      },
      "source": [
        "Setelah melakukan clustering, langkah selanjutnya adalah menganalisis karakteristik dari masing-masing cluster berdasarkan fitur yang tersedia.\n",
        "\n",
        "Berikut adalah **rekomendasi** tahapannya.\n",
        "1. Analisis karakteristik tiap cluster berdasarkan fitur yang tersedia (misalnya, distribusi nilai dalam cluster).\n",
        "2. Berikan interpretasi: Apakah hasil clustering sesuai dengan ekspektasi dan logika bisnis? Apakah ada pola tertentu yang bisa dimanfaatkan?"
      ]
    },
    {
      "cell_type": "code",
      "execution_count": null,
      "metadata": {
        "id": "MFq0x-OzM_Wt"
      },
      "outputs": [],
      "source": [
        "#Type your code here"
      ]
    },
    {
      "cell_type": "markdown",
      "metadata": {
        "id": "JfgVMEBDS3KG"
      },
      "source": [
        "Tulis hasil interpretasinya di sini.\n",
        "1. Cluster 1:\n",
        "2. Cluster 2:\n",
        "3. Cluster 3:"
      ]
    },
    {
      "cell_type": "markdown",
      "metadata": {
        "id": "jaYP1fx5VgWO"
      },
      "source": [
        "# **7. Mengeksport Data**\n",
        "\n",
        "Simpan hasilnya ke dalam file CSV."
      ]
    },
    {
      "cell_type": "code",
      "execution_count": null,
      "metadata": {
        "id": "fkbg_o80aRSH"
      },
      "outputs": [],
      "source": []
    }
  ],
  "metadata": {
    "colab": {
      "provenance": []
    },
    "kernelspec": {
      "display_name": "Python 3",
      "name": "python3"
    },
    "language_info": {
      "codemirror_mode": {
        "name": "ipython",
        "version": 3
      },
      "file_extension": ".py",
      "mimetype": "text/x-python",
      "name": "python",
      "nbconvert_exporter": "python",
      "pygments_lexer": "ipython3",
      "version": "3.12.6"
    }
  },
  "nbformat": 4,
  "nbformat_minor": 0
}
